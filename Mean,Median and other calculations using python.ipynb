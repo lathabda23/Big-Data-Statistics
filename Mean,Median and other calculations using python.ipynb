{
 "cells": [
  {
   "cell_type": "markdown",
   "id": "8775737d",
   "metadata": {},
   "source": [
    "# Importing library and dataset"
   ]
  },
  {
   "cell_type": "code",
   "execution_count": 45,
   "id": "d9cf3755",
   "metadata": {},
   "outputs": [],
   "source": [
    "#import library\n",
    "import numpy\n",
    "import pandas as pd"
   ]
  },
  {
   "cell_type": "code",
   "execution_count": 46,
   "id": "ddf8abc2",
   "metadata": {},
   "outputs": [
    {
     "data": {
      "text/html": [
       "<div>\n",
       "<style scoped>\n",
       "    .dataframe tbody tr th:only-of-type {\n",
       "        vertical-align: middle;\n",
       "    }\n",
       "\n",
       "    .dataframe tbody tr th {\n",
       "        vertical-align: top;\n",
       "    }\n",
       "\n",
       "    .dataframe thead th {\n",
       "        text-align: right;\n",
       "    }\n",
       "</style>\n",
       "<table border=\"1\" class=\"dataframe\">\n",
       "  <thead>\n",
       "    <tr style=\"text-align: right;\">\n",
       "      <th></th>\n",
       "      <th>Country/Region</th>\n",
       "      <th>Confirmed</th>\n",
       "      <th>Deaths</th>\n",
       "      <th>Recovered</th>\n",
       "      <th>Active</th>\n",
       "      <th>New cases</th>\n",
       "      <th>New deaths</th>\n",
       "      <th>New recovered</th>\n",
       "      <th>Deaths / 100 Cases</th>\n",
       "      <th>Recovered / 100 Cases</th>\n",
       "      <th>Deaths / 100 Recovered</th>\n",
       "      <th>Confirmed last week</th>\n",
       "      <th>1 week change</th>\n",
       "      <th>1 week % increase</th>\n",
       "      <th>WHO Region</th>\n",
       "    </tr>\n",
       "  </thead>\n",
       "  <tbody>\n",
       "    <tr>\n",
       "      <th>0</th>\n",
       "      <td>Afghanistan</td>\n",
       "      <td>36263</td>\n",
       "      <td>1269</td>\n",
       "      <td>25198</td>\n",
       "      <td>9796</td>\n",
       "      <td>106</td>\n",
       "      <td>10</td>\n",
       "      <td>18</td>\n",
       "      <td>3.50</td>\n",
       "      <td>69.49</td>\n",
       "      <td>5.04</td>\n",
       "      <td>35526</td>\n",
       "      <td>737</td>\n",
       "      <td>2.07</td>\n",
       "      <td>Eastern Mediterranean</td>\n",
       "    </tr>\n",
       "    <tr>\n",
       "      <th>1</th>\n",
       "      <td>Albania</td>\n",
       "      <td>4880</td>\n",
       "      <td>144</td>\n",
       "      <td>2745</td>\n",
       "      <td>1991</td>\n",
       "      <td>117</td>\n",
       "      <td>6</td>\n",
       "      <td>63</td>\n",
       "      <td>2.95</td>\n",
       "      <td>56.25</td>\n",
       "      <td>5.25</td>\n",
       "      <td>4171</td>\n",
       "      <td>709</td>\n",
       "      <td>17.00</td>\n",
       "      <td>Europe</td>\n",
       "    </tr>\n",
       "    <tr>\n",
       "      <th>2</th>\n",
       "      <td>Algeria</td>\n",
       "      <td>27973</td>\n",
       "      <td>1163</td>\n",
       "      <td>18837</td>\n",
       "      <td>7973</td>\n",
       "      <td>616</td>\n",
       "      <td>8</td>\n",
       "      <td>749</td>\n",
       "      <td>4.16</td>\n",
       "      <td>67.34</td>\n",
       "      <td>6.17</td>\n",
       "      <td>23691</td>\n",
       "      <td>4282</td>\n",
       "      <td>18.07</td>\n",
       "      <td>Africa</td>\n",
       "    </tr>\n",
       "    <tr>\n",
       "      <th>3</th>\n",
       "      <td>Andorra</td>\n",
       "      <td>907</td>\n",
       "      <td>52</td>\n",
       "      <td>803</td>\n",
       "      <td>52</td>\n",
       "      <td>10</td>\n",
       "      <td>0</td>\n",
       "      <td>0</td>\n",
       "      <td>5.73</td>\n",
       "      <td>88.53</td>\n",
       "      <td>6.48</td>\n",
       "      <td>884</td>\n",
       "      <td>23</td>\n",
       "      <td>2.60</td>\n",
       "      <td>Europe</td>\n",
       "    </tr>\n",
       "    <tr>\n",
       "      <th>4</th>\n",
       "      <td>Angola</td>\n",
       "      <td>950</td>\n",
       "      <td>41</td>\n",
       "      <td>242</td>\n",
       "      <td>667</td>\n",
       "      <td>18</td>\n",
       "      <td>1</td>\n",
       "      <td>0</td>\n",
       "      <td>4.32</td>\n",
       "      <td>25.47</td>\n",
       "      <td>16.94</td>\n",
       "      <td>749</td>\n",
       "      <td>201</td>\n",
       "      <td>26.84</td>\n",
       "      <td>Africa</td>\n",
       "    </tr>\n",
       "    <tr>\n",
       "      <th>...</th>\n",
       "      <td>...</td>\n",
       "      <td>...</td>\n",
       "      <td>...</td>\n",
       "      <td>...</td>\n",
       "      <td>...</td>\n",
       "      <td>...</td>\n",
       "      <td>...</td>\n",
       "      <td>...</td>\n",
       "      <td>...</td>\n",
       "      <td>...</td>\n",
       "      <td>...</td>\n",
       "      <td>...</td>\n",
       "      <td>...</td>\n",
       "      <td>...</td>\n",
       "      <td>...</td>\n",
       "    </tr>\n",
       "    <tr>\n",
       "      <th>182</th>\n",
       "      <td>West Bank and Gaza</td>\n",
       "      <td>10621</td>\n",
       "      <td>78</td>\n",
       "      <td>3752</td>\n",
       "      <td>6791</td>\n",
       "      <td>152</td>\n",
       "      <td>2</td>\n",
       "      <td>0</td>\n",
       "      <td>0.73</td>\n",
       "      <td>35.33</td>\n",
       "      <td>2.08</td>\n",
       "      <td>8916</td>\n",
       "      <td>1705</td>\n",
       "      <td>19.12</td>\n",
       "      <td>Eastern Mediterranean</td>\n",
       "    </tr>\n",
       "    <tr>\n",
       "      <th>183</th>\n",
       "      <td>Western Sahara</td>\n",
       "      <td>10</td>\n",
       "      <td>1</td>\n",
       "      <td>8</td>\n",
       "      <td>1</td>\n",
       "      <td>0</td>\n",
       "      <td>0</td>\n",
       "      <td>0</td>\n",
       "      <td>10.00</td>\n",
       "      <td>80.00</td>\n",
       "      <td>12.50</td>\n",
       "      <td>10</td>\n",
       "      <td>0</td>\n",
       "      <td>0.00</td>\n",
       "      <td>Africa</td>\n",
       "    </tr>\n",
       "    <tr>\n",
       "      <th>184</th>\n",
       "      <td>Yemen</td>\n",
       "      <td>1691</td>\n",
       "      <td>483</td>\n",
       "      <td>833</td>\n",
       "      <td>375</td>\n",
       "      <td>10</td>\n",
       "      <td>4</td>\n",
       "      <td>36</td>\n",
       "      <td>28.56</td>\n",
       "      <td>49.26</td>\n",
       "      <td>57.98</td>\n",
       "      <td>1619</td>\n",
       "      <td>72</td>\n",
       "      <td>4.45</td>\n",
       "      <td>Eastern Mediterranean</td>\n",
       "    </tr>\n",
       "    <tr>\n",
       "      <th>185</th>\n",
       "      <td>Zambia</td>\n",
       "      <td>4552</td>\n",
       "      <td>140</td>\n",
       "      <td>2815</td>\n",
       "      <td>1597</td>\n",
       "      <td>71</td>\n",
       "      <td>1</td>\n",
       "      <td>465</td>\n",
       "      <td>3.08</td>\n",
       "      <td>61.84</td>\n",
       "      <td>4.97</td>\n",
       "      <td>3326</td>\n",
       "      <td>1226</td>\n",
       "      <td>36.86</td>\n",
       "      <td>Africa</td>\n",
       "    </tr>\n",
       "    <tr>\n",
       "      <th>186</th>\n",
       "      <td>Zimbabwe</td>\n",
       "      <td>2704</td>\n",
       "      <td>36</td>\n",
       "      <td>542</td>\n",
       "      <td>2126</td>\n",
       "      <td>192</td>\n",
       "      <td>2</td>\n",
       "      <td>24</td>\n",
       "      <td>1.33</td>\n",
       "      <td>20.04</td>\n",
       "      <td>6.64</td>\n",
       "      <td>1713</td>\n",
       "      <td>991</td>\n",
       "      <td>57.85</td>\n",
       "      <td>Africa</td>\n",
       "    </tr>\n",
       "  </tbody>\n",
       "</table>\n",
       "<p>187 rows × 15 columns</p>\n",
       "</div>"
      ],
      "text/plain": [
       "         Country/Region  Confirmed  Deaths  Recovered  Active  New cases  \\\n",
       "0           Afghanistan      36263    1269      25198    9796        106   \n",
       "1               Albania       4880     144       2745    1991        117   \n",
       "2               Algeria      27973    1163      18837    7973        616   \n",
       "3               Andorra        907      52        803      52         10   \n",
       "4                Angola        950      41        242     667         18   \n",
       "..                  ...        ...     ...        ...     ...        ...   \n",
       "182  West Bank and Gaza      10621      78       3752    6791        152   \n",
       "183      Western Sahara         10       1          8       1          0   \n",
       "184               Yemen       1691     483        833     375         10   \n",
       "185              Zambia       4552     140       2815    1597         71   \n",
       "186            Zimbabwe       2704      36        542    2126        192   \n",
       "\n",
       "     New deaths  New recovered  Deaths / 100 Cases  Recovered / 100 Cases  \\\n",
       "0            10             18                3.50                  69.49   \n",
       "1             6             63                2.95                  56.25   \n",
       "2             8            749                4.16                  67.34   \n",
       "3             0              0                5.73                  88.53   \n",
       "4             1              0                4.32                  25.47   \n",
       "..          ...            ...                 ...                    ...   \n",
       "182           2              0                0.73                  35.33   \n",
       "183           0              0               10.00                  80.00   \n",
       "184           4             36               28.56                  49.26   \n",
       "185           1            465                3.08                  61.84   \n",
       "186           2             24                1.33                  20.04   \n",
       "\n",
       "     Deaths / 100 Recovered  Confirmed last week  1 week change  \\\n",
       "0                      5.04                35526            737   \n",
       "1                      5.25                 4171            709   \n",
       "2                      6.17                23691           4282   \n",
       "3                      6.48                  884             23   \n",
       "4                     16.94                  749            201   \n",
       "..                      ...                  ...            ...   \n",
       "182                    2.08                 8916           1705   \n",
       "183                   12.50                   10              0   \n",
       "184                   57.98                 1619             72   \n",
       "185                    4.97                 3326           1226   \n",
       "186                    6.64                 1713            991   \n",
       "\n",
       "     1 week % increase             WHO Region  \n",
       "0                 2.07  Eastern Mediterranean  \n",
       "1                17.00                 Europe  \n",
       "2                18.07                 Africa  \n",
       "3                 2.60                 Europe  \n",
       "4                26.84                 Africa  \n",
       "..                 ...                    ...  \n",
       "182              19.12  Eastern Mediterranean  \n",
       "183               0.00                 Africa  \n",
       "184               4.45  Eastern Mediterranean  \n",
       "185              36.86                 Africa  \n",
       "186              57.85                 Africa  \n",
       "\n",
       "[187 rows x 15 columns]"
      ]
     },
     "execution_count": 46,
     "metadata": {},
     "output_type": "execute_result"
    }
   ],
   "source": [
    "#data loading\n",
    "testData = pd.read_csv(\"C:/Users/latha/Downloads/country_wise_latest.csv\")\n",
    "testData"
   ]
  },
  {
   "cell_type": "markdown",
   "id": "dfd5933f",
   "metadata": {},
   "source": [
    "# Information about the dataset"
   ]
  },
  {
   "cell_type": "code",
   "execution_count": 47,
   "id": "0311364f",
   "metadata": {},
   "outputs": [
    {
     "name": "stdout",
     "output_type": "stream",
     "text": [
      "<class 'pandas.core.frame.DataFrame'>\n",
      "RangeIndex: 187 entries, 0 to 186\n",
      "Data columns (total 15 columns):\n",
      " #   Column                  Non-Null Count  Dtype  \n",
      "---  ------                  --------------  -----  \n",
      " 0   Country/Region          187 non-null    object \n",
      " 1   Confirmed               187 non-null    int64  \n",
      " 2   Deaths                  187 non-null    int64  \n",
      " 3   Recovered               187 non-null    int64  \n",
      " 4   Active                  187 non-null    int64  \n",
      " 5   New cases               187 non-null    int64  \n",
      " 6   New deaths              187 non-null    int64  \n",
      " 7   New recovered           187 non-null    int64  \n",
      " 8   Deaths / 100 Cases      187 non-null    float64\n",
      " 9   Recovered / 100 Cases   187 non-null    float64\n",
      " 10  Deaths / 100 Recovered  187 non-null    float64\n",
      " 11  Confirmed last week     187 non-null    int64  \n",
      " 12  1 week change           187 non-null    int64  \n",
      " 13  1 week % increase       187 non-null    float64\n",
      " 14  WHO Region              187 non-null    object \n",
      "dtypes: float64(4), int64(9), object(2)\n",
      "memory usage: 22.0+ KB\n"
     ]
    }
   ],
   "source": [
    "testData.info()"
   ]
  },
  {
   "cell_type": "markdown",
   "id": "74014bac",
   "metadata": {},
   "source": [
    "# To find All Values"
   ]
  },
  {
   "cell_type": "code",
   "execution_count": 48,
   "id": "58f37730",
   "metadata": {},
   "outputs": [
    {
     "data": {
      "text/html": [
       "<div>\n",
       "<style scoped>\n",
       "    .dataframe tbody tr th:only-of-type {\n",
       "        vertical-align: middle;\n",
       "    }\n",
       "\n",
       "    .dataframe tbody tr th {\n",
       "        vertical-align: top;\n",
       "    }\n",
       "\n",
       "    .dataframe thead th {\n",
       "        text-align: right;\n",
       "    }\n",
       "</style>\n",
       "<table border=\"1\" class=\"dataframe\">\n",
       "  <thead>\n",
       "    <tr style=\"text-align: right;\">\n",
       "      <th></th>\n",
       "      <th>Confirmed</th>\n",
       "      <th>Deaths</th>\n",
       "      <th>Recovered</th>\n",
       "      <th>Active</th>\n",
       "      <th>New cases</th>\n",
       "      <th>New deaths</th>\n",
       "      <th>New recovered</th>\n",
       "      <th>Deaths / 100 Cases</th>\n",
       "      <th>Recovered / 100 Cases</th>\n",
       "      <th>Deaths / 100 Recovered</th>\n",
       "      <th>Confirmed last week</th>\n",
       "      <th>1 week change</th>\n",
       "      <th>1 week % increase</th>\n",
       "    </tr>\n",
       "  </thead>\n",
       "  <tbody>\n",
       "    <tr>\n",
       "      <th>count</th>\n",
       "      <td>1.870000e+02</td>\n",
       "      <td>187.000000</td>\n",
       "      <td>1.870000e+02</td>\n",
       "      <td>1.870000e+02</td>\n",
       "      <td>187.000000</td>\n",
       "      <td>187.000000</td>\n",
       "      <td>187.000000</td>\n",
       "      <td>187.000000</td>\n",
       "      <td>187.000000</td>\n",
       "      <td>187.00</td>\n",
       "      <td>1.870000e+02</td>\n",
       "      <td>187.000000</td>\n",
       "      <td>187.000000</td>\n",
       "    </tr>\n",
       "    <tr>\n",
       "      <th>mean</th>\n",
       "      <td>8.813094e+04</td>\n",
       "      <td>3497.518717</td>\n",
       "      <td>5.063148e+04</td>\n",
       "      <td>3.400194e+04</td>\n",
       "      <td>1222.957219</td>\n",
       "      <td>28.957219</td>\n",
       "      <td>933.812834</td>\n",
       "      <td>3.019519</td>\n",
       "      <td>64.820535</td>\n",
       "      <td>inf</td>\n",
       "      <td>7.868248e+04</td>\n",
       "      <td>9448.459893</td>\n",
       "      <td>13.606203</td>\n",
       "    </tr>\n",
       "    <tr>\n",
       "      <th>std</th>\n",
       "      <td>3.833187e+05</td>\n",
       "      <td>14100.002482</td>\n",
       "      <td>1.901882e+05</td>\n",
       "      <td>2.133262e+05</td>\n",
       "      <td>5710.374790</td>\n",
       "      <td>120.037173</td>\n",
       "      <td>4197.719635</td>\n",
       "      <td>3.454302</td>\n",
       "      <td>26.287694</td>\n",
       "      <td>NaN</td>\n",
       "      <td>3.382737e+05</td>\n",
       "      <td>47491.127684</td>\n",
       "      <td>24.509838</td>\n",
       "    </tr>\n",
       "    <tr>\n",
       "      <th>min</th>\n",
       "      <td>1.000000e+01</td>\n",
       "      <td>0.000000</td>\n",
       "      <td>0.000000e+00</td>\n",
       "      <td>0.000000e+00</td>\n",
       "      <td>0.000000</td>\n",
       "      <td>0.000000</td>\n",
       "      <td>0.000000</td>\n",
       "      <td>0.000000</td>\n",
       "      <td>0.000000</td>\n",
       "      <td>0.00</td>\n",
       "      <td>1.000000e+01</td>\n",
       "      <td>-47.000000</td>\n",
       "      <td>-3.840000</td>\n",
       "    </tr>\n",
       "    <tr>\n",
       "      <th>25%</th>\n",
       "      <td>1.114000e+03</td>\n",
       "      <td>18.500000</td>\n",
       "      <td>6.265000e+02</td>\n",
       "      <td>1.415000e+02</td>\n",
       "      <td>4.000000</td>\n",
       "      <td>0.000000</td>\n",
       "      <td>0.000000</td>\n",
       "      <td>0.945000</td>\n",
       "      <td>48.770000</td>\n",
       "      <td>1.45</td>\n",
       "      <td>1.051500e+03</td>\n",
       "      <td>49.000000</td>\n",
       "      <td>2.775000</td>\n",
       "    </tr>\n",
       "    <tr>\n",
       "      <th>50%</th>\n",
       "      <td>5.059000e+03</td>\n",
       "      <td>108.000000</td>\n",
       "      <td>2.815000e+03</td>\n",
       "      <td>1.600000e+03</td>\n",
       "      <td>49.000000</td>\n",
       "      <td>1.000000</td>\n",
       "      <td>22.000000</td>\n",
       "      <td>2.150000</td>\n",
       "      <td>71.320000</td>\n",
       "      <td>3.62</td>\n",
       "      <td>5.020000e+03</td>\n",
       "      <td>432.000000</td>\n",
       "      <td>6.890000</td>\n",
       "    </tr>\n",
       "    <tr>\n",
       "      <th>75%</th>\n",
       "      <td>4.046050e+04</td>\n",
       "      <td>734.000000</td>\n",
       "      <td>2.260600e+04</td>\n",
       "      <td>9.149000e+03</td>\n",
       "      <td>419.500000</td>\n",
       "      <td>6.000000</td>\n",
       "      <td>221.000000</td>\n",
       "      <td>3.875000</td>\n",
       "      <td>86.885000</td>\n",
       "      <td>6.44</td>\n",
       "      <td>3.708050e+04</td>\n",
       "      <td>3172.000000</td>\n",
       "      <td>16.855000</td>\n",
       "    </tr>\n",
       "    <tr>\n",
       "      <th>max</th>\n",
       "      <td>4.290259e+06</td>\n",
       "      <td>148011.000000</td>\n",
       "      <td>1.846641e+06</td>\n",
       "      <td>2.816444e+06</td>\n",
       "      <td>56336.000000</td>\n",
       "      <td>1076.000000</td>\n",
       "      <td>33728.000000</td>\n",
       "      <td>28.560000</td>\n",
       "      <td>100.000000</td>\n",
       "      <td>inf</td>\n",
       "      <td>3.834677e+06</td>\n",
       "      <td>455582.000000</td>\n",
       "      <td>226.320000</td>\n",
       "    </tr>\n",
       "  </tbody>\n",
       "</table>\n",
       "</div>"
      ],
      "text/plain": [
       "          Confirmed         Deaths     Recovered        Active     New cases  \\\n",
       "count  1.870000e+02     187.000000  1.870000e+02  1.870000e+02    187.000000   \n",
       "mean   8.813094e+04    3497.518717  5.063148e+04  3.400194e+04   1222.957219   \n",
       "std    3.833187e+05   14100.002482  1.901882e+05  2.133262e+05   5710.374790   \n",
       "min    1.000000e+01       0.000000  0.000000e+00  0.000000e+00      0.000000   \n",
       "25%    1.114000e+03      18.500000  6.265000e+02  1.415000e+02      4.000000   \n",
       "50%    5.059000e+03     108.000000  2.815000e+03  1.600000e+03     49.000000   \n",
       "75%    4.046050e+04     734.000000  2.260600e+04  9.149000e+03    419.500000   \n",
       "max    4.290259e+06  148011.000000  1.846641e+06  2.816444e+06  56336.000000   \n",
       "\n",
       "        New deaths  New recovered  Deaths / 100 Cases  Recovered / 100 Cases  \\\n",
       "count   187.000000     187.000000          187.000000             187.000000   \n",
       "mean     28.957219     933.812834            3.019519              64.820535   \n",
       "std     120.037173    4197.719635            3.454302              26.287694   \n",
       "min       0.000000       0.000000            0.000000               0.000000   \n",
       "25%       0.000000       0.000000            0.945000              48.770000   \n",
       "50%       1.000000      22.000000            2.150000              71.320000   \n",
       "75%       6.000000     221.000000            3.875000              86.885000   \n",
       "max    1076.000000   33728.000000           28.560000             100.000000   \n",
       "\n",
       "       Deaths / 100 Recovered  Confirmed last week  1 week change  \\\n",
       "count                  187.00         1.870000e+02     187.000000   \n",
       "mean                      inf         7.868248e+04    9448.459893   \n",
       "std                       NaN         3.382737e+05   47491.127684   \n",
       "min                      0.00         1.000000e+01     -47.000000   \n",
       "25%                      1.45         1.051500e+03      49.000000   \n",
       "50%                      3.62         5.020000e+03     432.000000   \n",
       "75%                      6.44         3.708050e+04    3172.000000   \n",
       "max                       inf         3.834677e+06  455582.000000   \n",
       "\n",
       "       1 week % increase  \n",
       "count         187.000000  \n",
       "mean           13.606203  \n",
       "std            24.509838  \n",
       "min            -3.840000  \n",
       "25%             2.775000  \n",
       "50%             6.890000  \n",
       "75%            16.855000  \n",
       "max           226.320000  "
      ]
     },
     "execution_count": 48,
     "metadata": {},
     "output_type": "execute_result"
    }
   ],
   "source": [
    "testData.describe()"
   ]
  },
  {
   "cell_type": "markdown",
   "id": "5bd4b7de",
   "metadata": {},
   "source": [
    "# 1. Find out mean for  all numerical  variables."
   ]
  },
  {
   "cell_type": "code",
   "execution_count": 49,
   "id": "558b9295",
   "metadata": {
    "scrolled": true
   },
   "outputs": [
    {
     "data": {
      "text/plain": [
       "Confirmed                 8.813094e+04\n",
       "Deaths                    3.497519e+03\n",
       "Recovered                 5.063148e+04\n",
       "Active                    3.400194e+04\n",
       "New cases                 1.222957e+03\n",
       "New deaths                2.895722e+01\n",
       "New recovered             9.338128e+02\n",
       "Deaths / 100 Cases        3.019519e+00\n",
       "Recovered / 100 Cases     6.482053e+01\n",
       "Deaths / 100 Recovered             inf\n",
       "Confirmed last week       7.868248e+04\n",
       "1 week change             9.448460e+03\n",
       "1 week % increase         1.360620e+01\n",
       "dtype: float64"
      ]
     },
     "execution_count": 49,
     "metadata": {},
     "output_type": "execute_result"
    }
   ],
   "source": [
    "Mean = numpy.mean(testData)\n",
    "Mean"
   ]
  },
  {
   "cell_type": "markdown",
   "id": "734c7759",
   "metadata": {},
   "source": [
    "# 2. Find out trimmed mean for all numerical variable \n",
    "#trimmed mean excludes the largest and smallest five ."
   ]
  },
  {
   "cell_type": "code",
   "execution_count": 73,
   "id": "99d2c31f",
   "metadata": {},
   "outputs": [
    {
     "name": "stdout",
     "output_type": "stream",
     "text": [
      "Confirmed Trimmed_Mean= 13027.752212389381\n",
      "Deaths Trimmed_Mean= 254.32743362831857\n",
      "Recovered Trimmed_Mean= 6765.185840707964\n",
      "Active Trimmed_Mean= 3051.690265486726\n",
      "New cases Trimmed_Mean= 133.78761061946904\n",
      "New deaths Trimmed_Mean= 1.6814159292035398\n",
      "New recovered Trimmed_Mean= 67.27433628318585\n",
      "Deaths / 100 Cases Trimmed_Mean= 2.2876106194690267\n",
      "Recovered / 100 Cases Trimmed_Mean= 69.25106194690265\n",
      "Deaths / 100 Recovered Trimmed_Mean= 3.8189380530973454\n",
      "Confirmed last week Trimmed_Mean= 11653.964601769912\n",
      "1 week change Trimmed_Mean= 1020.4601769911504\n",
      "1 week % increase Trimmed_Mean= 8.47637168141593\n"
     ]
    }
   ],
   "source": [
    "#Importing stats to find the trimmed mean\n",
    "from scipy import stats\n",
    "\n",
    "for i in  testData.columns:\n",
    "    if(i not in ['Country/Region','WHO Region']):\n",
    "        trim_mean = stats.trim_mean(testData[i], proportiontocut=0.2)\n",
    "        print(i,'Trimmed_Mean=',trim_mean)"
   ]
  },
  {
   "cell_type": "markdown",
   "id": "b13c4f95",
   "metadata": {},
   "source": [
    "# 3. Find median for all numerical variables."
   ]
  },
  {
   "cell_type": "code",
   "execution_count": 63,
   "id": "1d06ba59",
   "metadata": {},
   "outputs": [
    {
     "data": {
      "text/plain": [
       "Confirmed                 5059.00\n",
       "Deaths                     108.00\n",
       "Recovered                 2815.00\n",
       "Active                    1600.00\n",
       "New cases                   49.00\n",
       "New deaths                   1.00\n",
       "New recovered               22.00\n",
       "Deaths / 100 Cases           2.15\n",
       "Recovered / 100 Cases       71.32\n",
       "Deaths / 100 Recovered       3.62\n",
       "Confirmed last week       5020.00\n",
       "1 week change              432.00\n",
       "1 week % increase            6.89\n",
       "dtype: float64"
      ]
     },
     "execution_count": 63,
     "metadata": {},
     "output_type": "execute_result"
    }
   ],
   "source": [
    "Median = testData.median()\n",
    "Median"
   ]
  },
  {
   "cell_type": "markdown",
   "id": "2f0f4d8c",
   "metadata": {},
   "source": [
    "# 4. Find out standard deviation for all numerical variables."
   ]
  },
  {
   "cell_type": "code",
   "execution_count": 74,
   "id": "57376794",
   "metadata": {},
   "outputs": [
    {
     "data": {
      "text/plain": [
       "Confirmed                 383318.663831\n",
       "Deaths                     14100.002482\n",
       "Recovered                 190188.189643\n",
       "Active                    213326.173371\n",
       "New cases                   5710.374790\n",
       "New deaths                   120.037173\n",
       "New recovered               4197.719635\n",
       "Deaths / 100 Cases             3.454302\n",
       "Recovered / 100 Cases         26.287694\n",
       "Deaths / 100 Recovered              NaN\n",
       "Confirmed last week       338273.676567\n",
       "1 week change              47491.127684\n",
       "1 week % increase             24.509838\n",
       "dtype: float64"
      ]
     },
     "execution_count": 74,
     "metadata": {},
     "output_type": "execute_result"
    }
   ],
   "source": [
    "testData.std()"
   ]
  },
  {
   "cell_type": "markdown",
   "id": "9c919797",
   "metadata": {},
   "source": [
    "# 5. Find out IQR(Interquartile range) for all numerical variables"
   ]
  },
  {
   "cell_type": "code",
   "execution_count": 76,
   "id": "cf1d3835",
   "metadata": {},
   "outputs": [],
   "source": [
    "#First quantile range\n",
    "q1 = testData.quantile(0.75)"
   ]
  },
  {
   "cell_type": "code",
   "execution_count": 77,
   "id": "6d19a2c6",
   "metadata": {},
   "outputs": [],
   "source": [
    "#Second quantile range\n",
    "q2= testData.quantile(0.25)"
   ]
  },
  {
   "cell_type": "code",
   "execution_count": 80,
   "id": "e68db117",
   "metadata": {},
   "outputs": [],
   "source": [
    "#IQR \n",
    "IQR = q1-q2"
   ]
  },
  {
   "cell_type": "code",
   "execution_count": 81,
   "id": "52720e03",
   "metadata": {},
   "outputs": [
    {
     "data": {
      "text/plain": [
       "Confirmed                 39346.500\n",
       "Deaths                      715.500\n",
       "Recovered                 21979.500\n",
       "Active                     9007.500\n",
       "New cases                   415.500\n",
       "New deaths                    6.000\n",
       "New recovered               221.000\n",
       "Deaths / 100 Cases            2.930\n",
       "Recovered / 100 Cases        38.115\n",
       "Deaths / 100 Recovered        4.990\n",
       "Confirmed last week       36029.000\n",
       "1 week change              3123.000\n",
       "1 week % increase            14.080\n",
       "dtype: float64"
      ]
     },
     "execution_count": 81,
     "metadata": {},
     "output_type": "execute_result"
    }
   ],
   "source": [
    "IQR"
   ]
  },
  {
   "cell_type": "markdown",
   "id": "0df196cc",
   "metadata": {},
   "source": [
    "# 6. Find out 50%th Pecentile for for all numerical variables."
   ]
  },
  {
   "cell_type": "code",
   "execution_count": 82,
   "id": "7e8267d5",
   "metadata": {},
   "outputs": [],
   "source": [
    "Percentile = testData.quantile(0.5)"
   ]
  },
  {
   "cell_type": "code",
   "execution_count": 83,
   "id": "231d68d2",
   "metadata": {},
   "outputs": [
    {
     "data": {
      "text/plain": [
       "Confirmed                 5059.00\n",
       "Deaths                     108.00\n",
       "Recovered                 2815.00\n",
       "Active                    1600.00\n",
       "New cases                   49.00\n",
       "New deaths                   1.00\n",
       "New recovered               22.00\n",
       "Deaths / 100 Cases           2.15\n",
       "Recovered / 100 Cases       71.32\n",
       "Deaths / 100 Recovered       3.62\n",
       "Confirmed last week       5020.00\n",
       "1 week change              432.00\n",
       "1 week % increase            6.89\n",
       "Name: 0.5, dtype: float64"
      ]
     },
     "execution_count": 83,
     "metadata": {},
     "output_type": "execute_result"
    }
   ],
   "source": [
    "Percentile"
   ]
  },
  {
   "cell_type": "markdown",
   "id": "4625bdbb",
   "metadata": {},
   "source": [
    "# 7. Create box plots for each country .(select any 2 countries)"
   ]
  },
  {
   "cell_type": "code",
   "execution_count": 70,
   "id": "5a0f1b2d",
   "metadata": {},
   "outputs": [],
   "source": [
    "datahead = testData.head()"
   ]
  },
  {
   "cell_type": "code",
   "execution_count": 71,
   "id": "0df73e80",
   "metadata": {},
   "outputs": [
    {
     "data": {
      "text/html": [
       "<div>\n",
       "<style scoped>\n",
       "    .dataframe tbody tr th:only-of-type {\n",
       "        vertical-align: middle;\n",
       "    }\n",
       "\n",
       "    .dataframe tbody tr th {\n",
       "        vertical-align: top;\n",
       "    }\n",
       "\n",
       "    .dataframe thead th {\n",
       "        text-align: right;\n",
       "    }\n",
       "</style>\n",
       "<table border=\"1\" class=\"dataframe\">\n",
       "  <thead>\n",
       "    <tr style=\"text-align: right;\">\n",
       "      <th></th>\n",
       "      <th>Country/Region</th>\n",
       "      <th>Confirmed</th>\n",
       "      <th>Deaths</th>\n",
       "      <th>Recovered</th>\n",
       "      <th>Active</th>\n",
       "      <th>New cases</th>\n",
       "      <th>New deaths</th>\n",
       "      <th>New recovered</th>\n",
       "      <th>Deaths / 100 Cases</th>\n",
       "      <th>Recovered / 100 Cases</th>\n",
       "      <th>Deaths / 100 Recovered</th>\n",
       "      <th>Confirmed last week</th>\n",
       "      <th>1 week change</th>\n",
       "      <th>1 week % increase</th>\n",
       "      <th>WHO Region</th>\n",
       "    </tr>\n",
       "  </thead>\n",
       "  <tbody>\n",
       "    <tr>\n",
       "      <th>0</th>\n",
       "      <td>Afghanistan</td>\n",
       "      <td>36263</td>\n",
       "      <td>1269</td>\n",
       "      <td>25198</td>\n",
       "      <td>9796</td>\n",
       "      <td>106</td>\n",
       "      <td>10</td>\n",
       "      <td>18</td>\n",
       "      <td>3.50</td>\n",
       "      <td>69.49</td>\n",
       "      <td>5.04</td>\n",
       "      <td>35526</td>\n",
       "      <td>737</td>\n",
       "      <td>2.07</td>\n",
       "      <td>Eastern Mediterranean</td>\n",
       "    </tr>\n",
       "    <tr>\n",
       "      <th>1</th>\n",
       "      <td>Albania</td>\n",
       "      <td>4880</td>\n",
       "      <td>144</td>\n",
       "      <td>2745</td>\n",
       "      <td>1991</td>\n",
       "      <td>117</td>\n",
       "      <td>6</td>\n",
       "      <td>63</td>\n",
       "      <td>2.95</td>\n",
       "      <td>56.25</td>\n",
       "      <td>5.25</td>\n",
       "      <td>4171</td>\n",
       "      <td>709</td>\n",
       "      <td>17.00</td>\n",
       "      <td>Europe</td>\n",
       "    </tr>\n",
       "    <tr>\n",
       "      <th>2</th>\n",
       "      <td>Algeria</td>\n",
       "      <td>27973</td>\n",
       "      <td>1163</td>\n",
       "      <td>18837</td>\n",
       "      <td>7973</td>\n",
       "      <td>616</td>\n",
       "      <td>8</td>\n",
       "      <td>749</td>\n",
       "      <td>4.16</td>\n",
       "      <td>67.34</td>\n",
       "      <td>6.17</td>\n",
       "      <td>23691</td>\n",
       "      <td>4282</td>\n",
       "      <td>18.07</td>\n",
       "      <td>Africa</td>\n",
       "    </tr>\n",
       "    <tr>\n",
       "      <th>3</th>\n",
       "      <td>Andorra</td>\n",
       "      <td>907</td>\n",
       "      <td>52</td>\n",
       "      <td>803</td>\n",
       "      <td>52</td>\n",
       "      <td>10</td>\n",
       "      <td>0</td>\n",
       "      <td>0</td>\n",
       "      <td>5.73</td>\n",
       "      <td>88.53</td>\n",
       "      <td>6.48</td>\n",
       "      <td>884</td>\n",
       "      <td>23</td>\n",
       "      <td>2.60</td>\n",
       "      <td>Europe</td>\n",
       "    </tr>\n",
       "    <tr>\n",
       "      <th>4</th>\n",
       "      <td>Angola</td>\n",
       "      <td>950</td>\n",
       "      <td>41</td>\n",
       "      <td>242</td>\n",
       "      <td>667</td>\n",
       "      <td>18</td>\n",
       "      <td>1</td>\n",
       "      <td>0</td>\n",
       "      <td>4.32</td>\n",
       "      <td>25.47</td>\n",
       "      <td>16.94</td>\n",
       "      <td>749</td>\n",
       "      <td>201</td>\n",
       "      <td>26.84</td>\n",
       "      <td>Africa</td>\n",
       "    </tr>\n",
       "  </tbody>\n",
       "</table>\n",
       "</div>"
      ],
      "text/plain": [
       "  Country/Region  Confirmed  Deaths  Recovered  Active  New cases  New deaths  \\\n",
       "0    Afghanistan      36263    1269      25198    9796        106          10   \n",
       "1        Albania       4880     144       2745    1991        117           6   \n",
       "2        Algeria      27973    1163      18837    7973        616           8   \n",
       "3        Andorra        907      52        803      52         10           0   \n",
       "4         Angola        950      41        242     667         18           1   \n",
       "\n",
       "   New recovered  Deaths / 100 Cases  Recovered / 100 Cases  \\\n",
       "0             18                3.50                  69.49   \n",
       "1             63                2.95                  56.25   \n",
       "2            749                4.16                  67.34   \n",
       "3              0                5.73                  88.53   \n",
       "4              0                4.32                  25.47   \n",
       "\n",
       "   Deaths / 100 Recovered  Confirmed last week  1 week change  \\\n",
       "0                    5.04                35526            737   \n",
       "1                    5.25                 4171            709   \n",
       "2                    6.17                23691           4282   \n",
       "3                    6.48                  884             23   \n",
       "4                   16.94                  749            201   \n",
       "\n",
       "   1 week % increase             WHO Region  \n",
       "0               2.07  Eastern Mediterranean  \n",
       "1              17.00                 Europe  \n",
       "2              18.07                 Africa  \n",
       "3               2.60                 Europe  \n",
       "4              26.84                 Africa  "
      ]
     },
     "execution_count": 71,
     "metadata": {},
     "output_type": "execute_result"
    }
   ],
   "source": [
    "datahead"
   ]
  },
  {
   "cell_type": "code",
   "execution_count": 84,
   "id": "2c4a9cec",
   "metadata": {},
   "outputs": [
    {
     "data": {
      "image/png": "[encoded data removed]",
      "text/plain": [
       "<Figure size 432x288 with 1 Axes>"
      ]
     },
     "metadata": {
      "needs_background": "light"
     },
     "output_type": "display_data"
    }
   ],
   "source": [
    "import seaborn as sns\n",
    "boxPlot = sns.boxplot(data=datahead,orient=\"h\",width = 1, fliersize = 5)"
   ]
  },
  {
   "cell_type": "code",
   "execution_count": 86,
   "id": "86e1fa38",
   "metadata": {},
   "outputs": [
    {
     "data": {
      "text/plain": [
       "<AxesSubplot:xlabel='Deaths', ylabel='Confirmed'>"
      ]
     },
     "execution_count": 86,
     "metadata": {},
     "output_type": "execute_result"
    },
    {
     "data": {
      "image/png": "[encoded data removed]",
      "text/plain": [
       "<Figure size 432x288 with 1 Axes>"
      ]
     },
     "metadata": {},
     "output_type": "display_data"
    }
   ],
   "source": [
    "import seaborn\n",
    " \n",
    "# use to set style of background of plot\n",
    "seaborn.set(style=\"whitegrid\")\n",
    " \n",
    "# loading data-set\n",
    "tip = datahead\n",
    " \n",
    "seaborn.boxplot(x =\"Deaths\",\n",
    "             y =\"Confirmed\",\n",
    "             hue =\"Country/Region\",\n",
    "             data = datahead, linewidth=5)"
   ]
  },
  {
   "cell_type": "markdown",
   "id": "cbea959e",
   "metadata": {},
   "source": [
    "# 8. Create histograms for each contry. (select any 2 countries)"
   ]
  },
  {
   "cell_type": "code",
   "execution_count": 88,
   "id": "ecbc079a",
   "metadata": {},
   "outputs": [
    {
     "data": {
      "image/png": "[encoded data removed]",
      "text/plain": [
       "<Figure size 432x288 with 6 Axes>"
      ]
     },
     "metadata": {},
     "output_type": "display_data"
    }
   ],
   "source": [
    "histogram = datahead.hist(column='Deaths',by='Country/Region')"
   ]
  },
  {
   "cell_type": "code",
   "execution_count": 89,
   "id": "7148231b",
   "metadata": {},
   "outputs": [
    {
     "data": {
      "image/png": "[encoded data removed]",
      "text/plain": [
       "<Figure size 432x288 with 6 Axes>"
      ]
     },
     "metadata": {},
     "output_type": "display_data"
    }
   ],
   "source": [
    "histogram = datahead.hist(column='Recovered',by='Country/Region')"
   ]
  },
  {
   "cell_type": "code",
   "execution_count": 90,
   "id": "0e400fd2",
   "metadata": {},
   "outputs": [],
   "source": [
    "twoCountry= testData[0:2]"
   ]
  },
  {
   "cell_type": "code",
   "execution_count": 91,
   "id": "f71f4a56",
   "metadata": {},
   "outputs": [
    {
     "data": {
      "text/html": [
       "<div>\n",
       "<style scoped>\n",
       "    .dataframe tbody tr th:only-of-type {\n",
       "        vertical-align: middle;\n",
       "    }\n",
       "\n",
       "    .dataframe tbody tr th {\n",
       "        vertical-align: top;\n",
       "    }\n",
       "\n",
       "    .dataframe thead th {\n",
       "        text-align: right;\n",
       "    }\n",
       "</style>\n",
       "<table border=\"1\" class=\"dataframe\">\n",
       "  <thead>\n",
       "    <tr style=\"text-align: right;\">\n",
       "      <th></th>\n",
       "      <th>Country/Region</th>\n",
       "      <th>Confirmed</th>\n",
       "      <th>Deaths</th>\n",
       "      <th>Recovered</th>\n",
       "      <th>Active</th>\n",
       "      <th>New cases</th>\n",
       "      <th>New deaths</th>\n",
       "      <th>New recovered</th>\n",
       "      <th>Deaths / 100 Cases</th>\n",
       "      <th>Recovered / 100 Cases</th>\n",
       "      <th>Deaths / 100 Recovered</th>\n",
       "      <th>Confirmed last week</th>\n",
       "      <th>1 week change</th>\n",
       "      <th>1 week % increase</th>\n",
       "      <th>WHO Region</th>\n",
       "    </tr>\n",
       "  </thead>\n",
       "  <tbody>\n",
       "    <tr>\n",
       "      <th>0</th>\n",
       "      <td>Afghanistan</td>\n",
       "      <td>36263</td>\n",
       "      <td>1269</td>\n",
       "      <td>25198</td>\n",
       "      <td>9796</td>\n",
       "      <td>106</td>\n",
       "      <td>10</td>\n",
       "      <td>18</td>\n",
       "      <td>3.50</td>\n",
       "      <td>69.49</td>\n",
       "      <td>5.04</td>\n",
       "      <td>35526</td>\n",
       "      <td>737</td>\n",
       "      <td>2.07</td>\n",
       "      <td>Eastern Mediterranean</td>\n",
       "    </tr>\n",
       "    <tr>\n",
       "      <th>1</th>\n",
       "      <td>Albania</td>\n",
       "      <td>4880</td>\n",
       "      <td>144</td>\n",
       "      <td>2745</td>\n",
       "      <td>1991</td>\n",
       "      <td>117</td>\n",
       "      <td>6</td>\n",
       "      <td>63</td>\n",
       "      <td>2.95</td>\n",
       "      <td>56.25</td>\n",
       "      <td>5.25</td>\n",
       "      <td>4171</td>\n",
       "      <td>709</td>\n",
       "      <td>17.00</td>\n",
       "      <td>Europe</td>\n",
       "    </tr>\n",
       "  </tbody>\n",
       "</table>\n",
       "</div>"
      ],
      "text/plain": [
       "  Country/Region  Confirmed  Deaths  Recovered  Active  New cases  New deaths  \\\n",
       "0    Afghanistan      36263    1269      25198    9796        106          10   \n",
       "1        Albania       4880     144       2745    1991        117           6   \n",
       "\n",
       "   New recovered  Deaths / 100 Cases  Recovered / 100 Cases  \\\n",
       "0             18                3.50                  69.49   \n",
       "1             63                2.95                  56.25   \n",
       "\n",
       "   Deaths / 100 Recovered  Confirmed last week  1 week change  \\\n",
       "0                    5.04                35526            737   \n",
       "1                    5.25                 4171            709   \n",
       "\n",
       "   1 week % increase             WHO Region  \n",
       "0               2.07  Eastern Mediterranean  \n",
       "1              17.00                 Europe  "
      ]
     },
     "execution_count": 91,
     "metadata": {},
     "output_type": "execute_result"
    }
   ],
   "source": [
    "twoCountry"
   ]
  },
  {
   "cell_type": "code",
   "execution_count": 92,
   "id": "42578cd0",
   "metadata": {},
   "outputs": [
    {
     "data": {
      "image/png": "[encoded data removed]",
      "text/plain": [
       "<Figure size 432x288 with 2 Axes>"
      ]
     },
     "metadata": {},
     "output_type": "display_data"
    }
   ],
   "source": [
    "histogram2country = twoCountry.hist(column='Deaths',by='Country/Region')"
   ]
  },
  {
   "cell_type": "code",
   "execution_count": 93,
   "id": "a0f36284",
   "metadata": {},
   "outputs": [
    {
     "data": {
      "image/png": "[encoded data removed]",
      "text/plain": [
       "<Figure size 432x288 with 2 Axes>"
      ]
     },
     "metadata": {},
     "output_type": "display_data"
    }
   ],
   "source": [
    "histogram2country = twoCountry.hist(column='Recovered',by='Country/Region')"
   ]
  },
  {
   "cell_type": "markdown",
   "id": "b72d5870",
   "metadata": {},
   "source": [
    "# 9. Create bar chats for each country. (select any 2 countries)"
   ]
  },
  {
   "cell_type": "code",
   "execution_count": 95,
   "id": "f49dcbc1",
   "metadata": {},
   "outputs": [
    {
     "data": {
      "text/plain": [
       "0    Afghanistan\n",
       "1        Albania\n",
       "Name: Country/Region, dtype: object"
      ]
     },
     "execution_count": 95,
     "metadata": {},
     "output_type": "execute_result"
    }
   ],
   "source": [
    "x=twoCountry['Confirmed']\n",
    "y=twoCountry['Country/Region']\n",
    "x\n",
    "y"
   ]
  },
  {
   "cell_type": "code",
   "execution_count": 97,
   "id": "6dfc5310",
   "metadata": {},
   "outputs": [
    {
     "data": {
      "image/png": "[encoded data removed]",
      "text/plain": [
       "<Figure size 432x288 with 1 Axes>"
      ]
     },
     "metadata": {},
     "output_type": "display_data"
    }
   ],
   "source": [
    "import matplotlib.pyplot as plot\n",
    "barGraph = plot.bar(y,x)\n",
    "plot.xlabel('Country')\n",
    "plot.ylabel('Confirmed')\n",
    "plot.grid(False)\n",
    "plot.show()"
   ]
  },
  {
   "cell_type": "code",
   "execution_count": 98,
   "id": "8d9b3550",
   "metadata": {},
   "outputs": [
    {
     "data": {
      "text/plain": [
       "0    Afghanistan\n",
       "1        Albania\n",
       "Name: Country/Region, dtype: object"
      ]
     },
     "execution_count": 98,
     "metadata": {},
     "output_type": "execute_result"
    }
   ],
   "source": [
    "x1=twoCountry['Recovered']\n",
    "y1=twoCountry['Country/Region']\n",
    "x1\n",
    "y1"
   ]
  },
  {
   "cell_type": "code",
   "execution_count": 106,
   "id": "0d99be10",
   "metadata": {},
   "outputs": [
    {
     "data": {
      "image/png": "[encoded data removed]",
      "text/plain": [
       "<Figure size 432x288 with 1 Axes>"
      ]
     },
     "metadata": {},
     "output_type": "display_data"
    }
   ],
   "source": [
    "import matplotlib.pyplot as plot\n",
    "barGraph = plot.bar(y1,x1)\n",
    "plot.xlabel('Country')\n",
    "plot.ylabel('Recovered')\n",
    "plot.grid(False)\n",
    "plot.show()"
   ]
  },
  {
   "cell_type": "code",
   "execution_count": 101,
   "id": "fca0f9bc",
   "metadata": {},
   "outputs": [
    {
     "data": {
      "text/html": [
       "<div>\n",
       "<style scoped>\n",
       "    .dataframe tbody tr th:only-of-type {\n",
       "        vertical-align: middle;\n",
       "    }\n",
       "\n",
       "    .dataframe tbody tr th {\n",
       "        vertical-align: top;\n",
       "    }\n",
       "\n",
       "    .dataframe thead th {\n",
       "        text-align: right;\n",
       "    }\n",
       "</style>\n",
       "<table border=\"1\" class=\"dataframe\">\n",
       "  <thead>\n",
       "    <tr style=\"text-align: right;\">\n",
       "      <th></th>\n",
       "      <th>Country/Region</th>\n",
       "      <th>Confirmed</th>\n",
       "      <th>Deaths</th>\n",
       "      <th>Recovered</th>\n",
       "      <th>Active</th>\n",
       "      <th>New cases</th>\n",
       "      <th>New deaths</th>\n",
       "      <th>New recovered</th>\n",
       "      <th>Deaths / 100 Cases</th>\n",
       "      <th>Recovered / 100 Cases</th>\n",
       "      <th>Deaths / 100 Recovered</th>\n",
       "      <th>Confirmed last week</th>\n",
       "      <th>1 week change</th>\n",
       "      <th>1 week % increase</th>\n",
       "      <th>WHO Region</th>\n",
       "    </tr>\n",
       "  </thead>\n",
       "  <tbody>\n",
       "    <tr>\n",
       "      <th>3</th>\n",
       "      <td>Andorra</td>\n",
       "      <td>907</td>\n",
       "      <td>52</td>\n",
       "      <td>803</td>\n",
       "      <td>52</td>\n",
       "      <td>10</td>\n",
       "      <td>0</td>\n",
       "      <td>0</td>\n",
       "      <td>5.73</td>\n",
       "      <td>88.53</td>\n",
       "      <td>6.48</td>\n",
       "      <td>884</td>\n",
       "      <td>23</td>\n",
       "      <td>2.60</td>\n",
       "      <td>Europe</td>\n",
       "    </tr>\n",
       "    <tr>\n",
       "      <th>4</th>\n",
       "      <td>Angola</td>\n",
       "      <td>950</td>\n",
       "      <td>41</td>\n",
       "      <td>242</td>\n",
       "      <td>667</td>\n",
       "      <td>18</td>\n",
       "      <td>1</td>\n",
       "      <td>0</td>\n",
       "      <td>4.32</td>\n",
       "      <td>25.47</td>\n",
       "      <td>16.94</td>\n",
       "      <td>749</td>\n",
       "      <td>201</td>\n",
       "      <td>26.84</td>\n",
       "      <td>Africa</td>\n",
       "    </tr>\n",
       "  </tbody>\n",
       "</table>\n",
       "</div>"
      ],
      "text/plain": [
       "  Country/Region  Confirmed  Deaths  Recovered  Active  New cases  New deaths  \\\n",
       "3        Andorra        907      52        803      52         10           0   \n",
       "4         Angola        950      41        242     667         18           1   \n",
       "\n",
       "   New recovered  Deaths / 100 Cases  Recovered / 100 Cases  \\\n",
       "3              0                5.73                  88.53   \n",
       "4              0                4.32                  25.47   \n",
       "\n",
       "   Deaths / 100 Recovered  Confirmed last week  1 week change  \\\n",
       "3                    6.48                  884             23   \n",
       "4                   16.94                  749            201   \n",
       "\n",
       "   1 week % increase WHO Region  \n",
       "3               2.60     Europe  \n",
       "4              26.84     Africa  "
      ]
     },
     "execution_count": 101,
     "metadata": {},
     "output_type": "execute_result"
    }
   ],
   "source": [
    "differentCountries=testData[3:5]\n",
    "differentCountries"
   ]
  },
  {
   "cell_type": "code",
   "execution_count": 102,
   "id": "d8f52be0",
   "metadata": {},
   "outputs": [
    {
     "data": {
      "text/plain": [
       "3    Andorra\n",
       "4     Angola\n",
       "Name: Country/Region, dtype: object"
      ]
     },
     "execution_count": 102,
     "metadata": {},
     "output_type": "execute_result"
    }
   ],
   "source": [
    "x1=differentCountries['Recovered']\n",
    "y1=differentCountries['Country/Region']\n",
    "x1\n",
    "y1"
   ]
  },
  {
   "cell_type": "code",
   "execution_count": 107,
   "id": "0bb81c42",
   "metadata": {},
   "outputs": [
    {
     "data": {
      "image/png": "[encoded data removed]",
      "text/plain": [
       "<Figure size 432x288 with 1 Axes>"
      ]
     },
     "metadata": {},
     "output_type": "display_data"
    }
   ],
   "source": [
    "import matplotlib.pyplot as plot\n",
    "barGraph = plot.bar(y1,x1)\n",
    "plot.xlabel('Country')\n",
    "plot.ylabel('Recovered')\n",
    "plot.grid(False)\n",
    "plot.show()"
   ]
  },
  {
   "cell_type": "code",
   "execution_count": 104,
   "id": "d5f5b86b",
   "metadata": {},
   "outputs": [
    {
     "data": {
      "text/plain": [
       "3    Andorra\n",
       "4     Angola\n",
       "Name: Country/Region, dtype: object"
      ]
     },
     "execution_count": 104,
     "metadata": {},
     "output_type": "execute_result"
    }
   ],
   "source": [
    "x=differentCountries['Confirmed']\n",
    "y=differentCountries['Country/Region']\n",
    "x\n",
    "y"
   ]
  },
  {
   "cell_type": "code",
   "execution_count": 105,
   "id": "7905ce5a",
   "metadata": {},
   "outputs": [
    {
     "data": {
      "image/png": "[encoded data removed]",
      "text/plain": [
       "<Figure size 432x288 with 1 Axes>"
      ]
     },
     "metadata": {},
     "output_type": "display_data"
    }
   ],
   "source": [
    "import matplotlib.pyplot as plot\n",
    "barGraph = plot.bar(y,x)\n",
    "plot.xlabel('Country')\n",
    "plot.ylabel('Confirmed')\n",
    "plot.grid(False)\n",
    "plot.show()"
   ]
  },
  {
   "cell_type": "markdown",
   "id": "9b03ce2a",
   "metadata": {},
   "source": [
    "# 10. find the corraltions between variables."
   ]
  },
  {
   "cell_type": "code",
   "execution_count": 108,
   "id": "a08842ce",
   "metadata": {},
   "outputs": [
    {
     "data": {
      "text/html": [
       "<div>\n",
       "<style scoped>\n",
       "    .dataframe tbody tr th:only-of-type {\n",
       "        vertical-align: middle;\n",
       "    }\n",
       "\n",
       "    .dataframe tbody tr th {\n",
       "        vertical-align: top;\n",
       "    }\n",
       "\n",
       "    .dataframe thead th {\n",
       "        text-align: right;\n",
       "    }\n",
       "</style>\n",
       "<table border=\"1\" class=\"dataframe\">\n",
       "  <thead>\n",
       "    <tr style=\"text-align: right;\">\n",
       "      <th></th>\n",
       "      <th>Confirmed</th>\n",
       "      <th>Deaths</th>\n",
       "      <th>Recovered</th>\n",
       "      <th>Active</th>\n",
       "      <th>New cases</th>\n",
       "      <th>New deaths</th>\n",
       "      <th>New recovered</th>\n",
       "      <th>Deaths / 100 Cases</th>\n",
       "      <th>Recovered / 100 Cases</th>\n",
       "      <th>Deaths / 100 Recovered</th>\n",
       "      <th>Confirmed last week</th>\n",
       "      <th>1 week change</th>\n",
       "      <th>1 week % increase</th>\n",
       "    </tr>\n",
       "  </thead>\n",
       "  <tbody>\n",
       "    <tr>\n",
       "      <th>Confirmed</th>\n",
       "      <td>1.000000</td>\n",
       "      <td>0.934698</td>\n",
       "      <td>0.906377</td>\n",
       "      <td>0.927018</td>\n",
       "      <td>0.909720</td>\n",
       "      <td>0.871683</td>\n",
       "      <td>0.859252</td>\n",
       "      <td>0.063550</td>\n",
       "      <td>-0.064815</td>\n",
       "      <td>0.025175</td>\n",
       "      <td>0.999127</td>\n",
       "      <td>0.954710</td>\n",
       "      <td>-0.010161</td>\n",
       "    </tr>\n",
       "    <tr>\n",
       "      <th>Deaths</th>\n",
       "      <td>0.934698</td>\n",
       "      <td>1.000000</td>\n",
       "      <td>0.832098</td>\n",
       "      <td>0.871586</td>\n",
       "      <td>0.806975</td>\n",
       "      <td>0.814161</td>\n",
       "      <td>0.765114</td>\n",
       "      <td>0.251565</td>\n",
       "      <td>-0.114529</td>\n",
       "      <td>0.169006</td>\n",
       "      <td>0.939082</td>\n",
       "      <td>0.855330</td>\n",
       "      <td>-0.034708</td>\n",
       "    </tr>\n",
       "    <tr>\n",
       "      <th>Recovered</th>\n",
       "      <td>0.906377</td>\n",
       "      <td>0.832098</td>\n",
       "      <td>1.000000</td>\n",
       "      <td>0.682103</td>\n",
       "      <td>0.818942</td>\n",
       "      <td>0.820338</td>\n",
       "      <td>0.919203</td>\n",
       "      <td>0.048438</td>\n",
       "      <td>0.026610</td>\n",
       "      <td>-0.027277</td>\n",
       "      <td>0.899312</td>\n",
       "      <td>0.910013</td>\n",
       "      <td>-0.013697</td>\n",
       "    </tr>\n",
       "    <tr>\n",
       "      <th>Active</th>\n",
       "      <td>0.927018</td>\n",
       "      <td>0.871586</td>\n",
       "      <td>0.682103</td>\n",
       "      <td>1.000000</td>\n",
       "      <td>0.851190</td>\n",
       "      <td>0.781123</td>\n",
       "      <td>0.673887</td>\n",
       "      <td>0.054380</td>\n",
       "      <td>-0.132618</td>\n",
       "      <td>0.058386</td>\n",
       "      <td>0.931459</td>\n",
       "      <td>0.847642</td>\n",
       "      <td>-0.003752</td>\n",
       "    </tr>\n",
       "    <tr>\n",
       "      <th>New cases</th>\n",
       "      <td>0.909720</td>\n",
       "      <td>0.806975</td>\n",
       "      <td>0.818942</td>\n",
       "      <td>0.851190</td>\n",
       "      <td>1.000000</td>\n",
       "      <td>0.935947</td>\n",
       "      <td>0.914765</td>\n",
       "      <td>0.020104</td>\n",
       "      <td>-0.078666</td>\n",
       "      <td>-0.011637</td>\n",
       "      <td>0.896084</td>\n",
       "      <td>0.959993</td>\n",
       "      <td>0.030791</td>\n",
       "    </tr>\n",
       "    <tr>\n",
       "      <th>New deaths</th>\n",
       "      <td>0.871683</td>\n",
       "      <td>0.814161</td>\n",
       "      <td>0.820338</td>\n",
       "      <td>0.781123</td>\n",
       "      <td>0.935947</td>\n",
       "      <td>1.000000</td>\n",
       "      <td>0.889234</td>\n",
       "      <td>0.060399</td>\n",
       "      <td>-0.062792</td>\n",
       "      <td>-0.020750</td>\n",
       "      <td>0.862118</td>\n",
       "      <td>0.894915</td>\n",
       "      <td>0.025293</td>\n",
       "    </tr>\n",
       "    <tr>\n",
       "      <th>New recovered</th>\n",
       "      <td>0.859252</td>\n",
       "      <td>0.765114</td>\n",
       "      <td>0.919203</td>\n",
       "      <td>0.673887</td>\n",
       "      <td>0.914765</td>\n",
       "      <td>0.889234</td>\n",
       "      <td>1.000000</td>\n",
       "      <td>0.017090</td>\n",
       "      <td>-0.024293</td>\n",
       "      <td>-0.023340</td>\n",
       "      <td>0.839692</td>\n",
       "      <td>0.954321</td>\n",
       "      <td>0.032662</td>\n",
       "    </tr>\n",
       "    <tr>\n",
       "      <th>Deaths / 100 Cases</th>\n",
       "      <td>0.063550</td>\n",
       "      <td>0.251565</td>\n",
       "      <td>0.048438</td>\n",
       "      <td>0.054380</td>\n",
       "      <td>0.020104</td>\n",
       "      <td>0.060399</td>\n",
       "      <td>0.017090</td>\n",
       "      <td>1.000000</td>\n",
       "      <td>-0.168920</td>\n",
       "      <td>0.334594</td>\n",
       "      <td>0.069894</td>\n",
       "      <td>0.015095</td>\n",
       "      <td>-0.134534</td>\n",
       "    </tr>\n",
       "    <tr>\n",
       "      <th>Recovered / 100 Cases</th>\n",
       "      <td>-0.064815</td>\n",
       "      <td>-0.114529</td>\n",
       "      <td>0.026610</td>\n",
       "      <td>-0.132618</td>\n",
       "      <td>-0.078666</td>\n",
       "      <td>-0.062792</td>\n",
       "      <td>-0.024293</td>\n",
       "      <td>-0.168920</td>\n",
       "      <td>1.000000</td>\n",
       "      <td>-0.295381</td>\n",
       "      <td>-0.064600</td>\n",
       "      <td>-0.063013</td>\n",
       "      <td>-0.394254</td>\n",
       "    </tr>\n",
       "    <tr>\n",
       "      <th>Deaths / 100 Recovered</th>\n",
       "      <td>0.025175</td>\n",
       "      <td>0.169006</td>\n",
       "      <td>-0.027277</td>\n",
       "      <td>0.058386</td>\n",
       "      <td>-0.011637</td>\n",
       "      <td>-0.020750</td>\n",
       "      <td>-0.023340</td>\n",
       "      <td>0.334594</td>\n",
       "      <td>-0.295381</td>\n",
       "      <td>1.000000</td>\n",
       "      <td>0.030460</td>\n",
       "      <td>-0.013763</td>\n",
       "      <td>-0.049083</td>\n",
       "    </tr>\n",
       "    <tr>\n",
       "      <th>Confirmed last week</th>\n",
       "      <td>0.999127</td>\n",
       "      <td>0.939082</td>\n",
       "      <td>0.899312</td>\n",
       "      <td>0.931459</td>\n",
       "      <td>0.896084</td>\n",
       "      <td>0.862118</td>\n",
       "      <td>0.839692</td>\n",
       "      <td>0.069894</td>\n",
       "      <td>-0.064600</td>\n",
       "      <td>0.030460</td>\n",
       "      <td>1.000000</td>\n",
       "      <td>0.941448</td>\n",
       "      <td>-0.015247</td>\n",
       "    </tr>\n",
       "    <tr>\n",
       "      <th>1 week change</th>\n",
       "      <td>0.954710</td>\n",
       "      <td>0.855330</td>\n",
       "      <td>0.910013</td>\n",
       "      <td>0.847642</td>\n",
       "      <td>0.959993</td>\n",
       "      <td>0.894915</td>\n",
       "      <td>0.954321</td>\n",
       "      <td>0.015095</td>\n",
       "      <td>-0.063013</td>\n",
       "      <td>-0.013763</td>\n",
       "      <td>0.941448</td>\n",
       "      <td>1.000000</td>\n",
       "      <td>0.026594</td>\n",
       "    </tr>\n",
       "    <tr>\n",
       "      <th>1 week % increase</th>\n",
       "      <td>-0.010161</td>\n",
       "      <td>-0.034708</td>\n",
       "      <td>-0.013697</td>\n",
       "      <td>-0.003752</td>\n",
       "      <td>0.030791</td>\n",
       "      <td>0.025293</td>\n",
       "      <td>0.032662</td>\n",
       "      <td>-0.134534</td>\n",
       "      <td>-0.394254</td>\n",
       "      <td>-0.049083</td>\n",
       "      <td>-0.015247</td>\n",
       "      <td>0.026594</td>\n",
       "      <td>1.000000</td>\n",
       "    </tr>\n",
       "  </tbody>\n",
       "</table>\n",
       "</div>"
      ],
      "text/plain": [
       "                        Confirmed    Deaths  Recovered    Active  New cases  \\\n",
       "Confirmed                1.000000  0.934698   0.906377  0.927018   0.909720   \n",
       "Deaths                   0.934698  1.000000   0.832098  0.871586   0.806975   \n",
       "Recovered                0.906377  0.832098   1.000000  0.682103   0.818942   \n",
       "Active                   0.927018  0.871586   0.682103  1.000000   0.851190   \n",
       "New cases                0.909720  0.806975   0.818942  0.851190   1.000000   \n",
       "New deaths               0.871683  0.814161   0.820338  0.781123   0.935947   \n",
       "New recovered            0.859252  0.765114   0.919203  0.673887   0.914765   \n",
       "Deaths / 100 Cases       0.063550  0.251565   0.048438  0.054380   0.020104   \n",
       "Recovered / 100 Cases   -0.064815 -0.114529   0.026610 -0.132618  -0.078666   \n",
       "Deaths / 100 Recovered   0.025175  0.169006  -0.027277  0.058386  -0.011637   \n",
       "Confirmed last week      0.999127  0.939082   0.899312  0.931459   0.896084   \n",
       "1 week change            0.954710  0.855330   0.910013  0.847642   0.959993   \n",
       "1 week % increase       -0.010161 -0.034708  -0.013697 -0.003752   0.030791   \n",
       "\n",
       "                        New deaths  New recovered  Deaths / 100 Cases  \\\n",
       "Confirmed                 0.871683       0.859252            0.063550   \n",
       "Deaths                    0.814161       0.765114            0.251565   \n",
       "Recovered                 0.820338       0.919203            0.048438   \n",
       "Active                    0.781123       0.673887            0.054380   \n",
       "New cases                 0.935947       0.914765            0.020104   \n",
       "New deaths                1.000000       0.889234            0.060399   \n",
       "New recovered             0.889234       1.000000            0.017090   \n",
       "Deaths / 100 Cases        0.060399       0.017090            1.000000   \n",
       "Recovered / 100 Cases    -0.062792      -0.024293           -0.168920   \n",
       "Deaths / 100 Recovered   -0.020750      -0.023340            0.334594   \n",
       "Confirmed last week       0.862118       0.839692            0.069894   \n",
       "1 week change             0.894915       0.954321            0.015095   \n",
       "1 week % increase         0.025293       0.032662           -0.134534   \n",
       "\n",
       "                        Recovered / 100 Cases  Deaths / 100 Recovered  \\\n",
       "Confirmed                           -0.064815                0.025175   \n",
       "Deaths                              -0.114529                0.169006   \n",
       "Recovered                            0.026610               -0.027277   \n",
       "Active                              -0.132618                0.058386   \n",
       "New cases                           -0.078666               -0.011637   \n",
       "New deaths                          -0.062792               -0.020750   \n",
       "New recovered                       -0.024293               -0.023340   \n",
       "Deaths / 100 Cases                  -0.168920                0.334594   \n",
       "Recovered / 100 Cases                1.000000               -0.295381   \n",
       "Deaths / 100 Recovered              -0.295381                1.000000   \n",
       "Confirmed last week                 -0.064600                0.030460   \n",
       "1 week change                       -0.063013               -0.013763   \n",
       "1 week % increase                   -0.394254               -0.049083   \n",
       "\n",
       "                        Confirmed last week  1 week change  1 week % increase  \n",
       "Confirmed                          0.999127       0.954710          -0.010161  \n",
       "Deaths                             0.939082       0.855330          -0.034708  \n",
       "Recovered                          0.899312       0.910013          -0.013697  \n",
       "Active                             0.931459       0.847642          -0.003752  \n",
       "New cases                          0.896084       0.959993           0.030791  \n",
       "New deaths                         0.862118       0.894915           0.025293  \n",
       "New recovered                      0.839692       0.954321           0.032662  \n",
       "Deaths / 100 Cases                 0.069894       0.015095          -0.134534  \n",
       "Recovered / 100 Cases             -0.064600      -0.063013          -0.394254  \n",
       "Deaths / 100 Recovered             0.030460      -0.013763          -0.049083  \n",
       "Confirmed last week                1.000000       0.941448          -0.015247  \n",
       "1 week change                      0.941448       1.000000           0.026594  \n",
       "1 week % increase                 -0.015247       0.026594           1.000000  "
      ]
     },
     "execution_count": 108,
     "metadata": {},
     "output_type": "execute_result"
    }
   ],
   "source": [
    "#correlation matrix\n",
    "testData.corr()"
   ]
  },
  {
   "cell_type": "code",
   "execution_count": 111,
   "id": "32619724",
   "metadata": {},
   "outputs": [
    {
     "data": {
      "image/png": "[encoded data removed]",
      "text/plain": [
       "<Figure size 1440x720 with 2 Axes>"
      ]
     },
     "metadata": {},
     "output_type": "display_data"
    }
   ],
   "source": [
    "# correlation heatmap\n",
    "plot.figure(figsize=(20,10))\n",
    "heatmap = sns.heatmap(testData.corr(),annot=True)\n",
    "heatmap.set_title('Correlation Heatmap', fontdict={'fontsize':12}, pad=12);\n",
    "plot.show()"
   ]
  },
  {
   "cell_type": "code",
   "execution_count": null,
   "id": "f0d91ebf",
   "metadata": {},
   "outputs": [],
   "source": []
  }
 ],
 "metadata": {
  "kernelspec": {
   "display_name": "Python 3",
   "language": "python",
   "name": "python3"
  },
  "language_info": {
   "codemirror_mode": {
    "name": "ipython",
    "version": 3
   },
   "file_extension": ".py",
   "mimetype": "text/x-python",
   "name": "python",
   "nbconvert_exporter": "python",
   "pygments_lexer": "ipython3",
   "version": "3.8.8"
  }
 },
 "nbformat": 4,
 "nbformat_minor": 5
}
